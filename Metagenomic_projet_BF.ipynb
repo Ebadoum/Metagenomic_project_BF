{
 "cells": [
  {
   "cell_type": "markdown",
   "id": "4011be25-3dcd-4b8a-9acb-68da4a2699cb",
   "metadata": {},
   "source": [
    "# <span style=\"color:#006E7F\">_ CIBIG Metagenomic water projet analysis__ <a class=\"anchor\"></span>  \n",
    "\n",
    "\n",
    "Created by F. Sorgho (CRUN) and E. Badoum (GRAS) - Novembre 2024\n"
   ]
  },
  {
   "cell_type": "markdown",
   "id": "87d77a13-f12e-4f0f-92f1-d50589873549",
   "metadata": {},
   "source": [
    "# <span style=\"color:#006E7F\">BASECALLING and QC__ <a class=\"anchor\" id=\"data\"></span>  \n",
    "    \n",
    "## <span style=\"color: #4CACBC;\"> Creating the folder, downloading data and so on</span>  \n"
   ]
  },
  {
   "cell_type": "markdown",
   "id": "72b48acd-520f-47a6-ad65-2d9d55724acf",
   "metadata": {},
   "source": [
    "### <span style=\"color: #4CACBD;\"> 1. Data </span>\n",
    "\n",
    "We will analyse a Freshwater Samples (Urban et al., 2021; https://elifesciences.org/articles/61504).  "
   ]
  },
  {
   "cell_type": "code",
   "execution_count": null,
   "id": "3735265a-66e6-4ddd-9d79-487254de54d9",
   "metadata": {},
   "outputs": [],
   "source": [
    "cd ~/projet_BS\n",
    "mkdir -p Data\n",
    "cd Data\n",
    "# download your compressed Freshwater Sample, https://www.ebi.ac.uk/ena/browser/view/PRJEB34900 ERR3806859_1-ERR3806892_1\n",
    "wget -nc ftp://ftp.sra.ebi.ac.uk/vol1/fastq/ERR380/009/ERR3806859/ERR3806859_1.fastq.gz\n",
    "wget -nc ftp://ftp.sra.ebi.ac.uk/vol1/fastq/ERR380/006/ERR3806876/ERR3806876_1.fastq.gz\n",
    "wget -nc ftp://ftp.sra.ebi.ac.uk/vol1/fastq/ERR380/000/ERR3806860/ERR3806860_1.fastq.gz"
   ]
  },
  {
   "cell_type": "markdown",
   "id": "210c527b-3d1d-4073-9843-8d36ffe4e30b",
   "metadata": {},
   "source": [
    "## <span style=\"color: #4CACBC;\"> 2. Basecalling </span>  \n",
    "\n",
    "Electrical signals are stocked on fast5 format files when DNA molecules are sequenced.\n",
    "\n",
    "These signals need to be converted on standard fastq files to post-analysis.\n",
    "\n",
    "Several training dataset models are usually used to convert fast5 to fastq. \n",
    "For this Job we used Guppy  "
   ]
  },
  {
   "cell_type": "markdown",
   "id": "16db1c0a-976a-4c23-bc70-66af21424b55",
   "metadata": {},
   "source": [
    "## <span style=\"color: #4CACBC;\"> 3. Quality Control on Long Reads with Nanoplot </span>  "
   ]
  },
  {
   "cell_type": "markdown",
   "id": "ce51c478-6563-43e5-a651-3a211bc328f6",
   "metadata": {},
   "source": [
    "Control reads quality using Nanoplot. You can parameter this tool using --help."
   ]
  },
  {
   "cell_type": "code",
   "execution_count": null,
   "id": "f48b3574-6ed0-4aee-868b-e0cea2647fbf",
   "metadata": {},
   "outputs": [],
   "source": [
    "NanoPlot --help"
   ]
  },
  {
   "cell_type": "code",
   "execution_count": null,
   "id": "eab5cff8-ed7b-4d1b-a891-7f3678ee9b17",
   "metadata": {},
   "outputs": [],
   "source": [
    "Install Nanoplot/1.44.0\n",
    "NanoPlot -t 8 --fastq ~/projet_BS/Data/*fastq.gz --outdir NANOPLOT_files"
   ]
  },
  {
   "cell_type": "code",
   "execution_count": null,
   "id": "5e2e203c-f704-480e-a359-cfd4a4f9c805",
   "metadata": {},
   "outputs": [],
   "source": [
    "#test for one sample\n",
    "NanoPlot --fastq /home/faiza/Downloads/projet_turore/database_initial/ERR3806875_1.fastq.gz --outdir ./output "
   ]
  },
  {
   "cell_type": "code",
   "execution_count": null,
   "id": "1496d2cc-3614-4096-8046-8174ca291388",
   "metadata": {},
   "outputs": [],
   "source": [
    "# for all of sample\n",
    "NanoPlot --fastq /home/faiza/Downloads/projet_turore/database_initial/ERR38068*.fastq.gz --outdir ./output_combined"
   ]
  },
  {
   "cell_type": "markdown",
   "id": "08842185-aa02-42e0-b220-df0610cf3ca4",
   "metadata": {},
   "source": [
    "Observe Stats"
   ]
  },
  {
   "cell_type": "markdown",
   "id": "45b9a3f8-19f6-4f43-b737-f094351b9945",
   "metadata": {},
   "source": [
    "## <span style=\"color: #4CACBC;\"> Use KRAKEN2 for taxonomic assignation<a class=\"anchor\" id=\"kraken2\"> </span>\n"
   ]
  },
  {
   "cell_type": "raw",
   "id": "7e4ffca1-bbca-41b4-860f-144e0a3518c9",
   "metadata": {},
   "source": [
    "Kraken is a taxonomic sequence classifier that assigns taxonomic labels to DNA sequences. Kraken examines the k-mers within a query sequence and uses the information within those k-mers to query a database. That database maps k-mers to the lowest common ancestor (LCA) of all genomes known to contain a given k-mer."
   ]
  },
  {
   "cell_type": "markdown",
   "id": "730faec7-8a97-4efe-a9c4-f625885fadfe",
   "metadata": {},
   "source": [
    "### <span style=\"color: #4CACBC;\"> 3.1. Download a bacterial database<a class=\"anchor\" id=\"viraldb\"> </span>"
   ]
  },
  {
   "cell_type": "code",
   "execution_count": null,
   "id": "c1d4a5b4-f4f4-4606-bb8b-9a7b9167edfd",
   "metadata": {},
   "outputs": [],
   "source": [
    "Kraken2 --help"
   ]
  },
  {
   "cell_type": "code",
   "execution_count": null,
   "id": "f472125e-2e81-48f9-9cc3-4d42d9e5c246",
   "metadata": {},
   "outputs": [],
   "source": [
    "kraken2-build --special \"silva\" --db kraken_database/.\n"
   ]
  },
  {
   "cell_type": "raw",
   "id": "fffc95e0-4b9e-433f-b1e1-96d07334cd47",
   "metadata": {},
   "source": [
    "The SILVA database contains taxonomic information for Bacteria, Archaea and Eukarya domains. It is based primarily on phylogenies for small subunit rRNAs (16S for prokaryotes and 18S for Eukarya)."
   ]
  },
  {
   "cell_type": "code",
   "execution_count": null,
   "id": "e59b9f92-b8e5-4310-985a-131bc2ff9866",
   "metadata": {},
   "outputs": [],
   "source": [
    "# Inspect the database content\n",
    "kraken2-inspect --db kraken_database | head -15"
   ]
  },
  {
   "cell_type": "markdown",
   "id": "89f901e5-c09a-4319-823f-d04be24794d1",
   "metadata": {},
   "source": [
    "### <span style=\"color: #4CACBC;\"> 3.2. run Kraken2 <a class=\"anchor\" id=\"kraken\"> </span>"
   ]
  },
  {
   "cell_type": "code",
   "execution_count": null,
   "id": "50a113ab-601c-4ef0-87af-ae2cddb02333",
   "metadata": {},
   "outputs": [],
   "source": [
    "kraken2 --db kraken_database/ /projects/medium/CIBIG_metagenomic_eaux/RAW_DATA/FASTQ_DIR/ERR38068*.fastq.gz --report report.txt --report-minimizer-data --> output_kraken"
   ]
  },
  {
   "cell_type": "markdown",
   "id": "467c4c4f-325c-44b2-802b-869dca60f1d0",
   "metadata": {},
   "source": [
    "### <span style=\"color: #4CACBC;\"> 3.3. Vizualise kraken2 output with krona<a class=\"anchor\" id=\"krakenkrona\"> </span>"
   ]
  },
  {
   "cell_type": "code",
   "execution_count": null,
   "id": "004507f1-4b5c-47b5-bbbc-a578030134af",
   "metadata": {},
   "outputs": [],
   "source": [
    "ktImportTaxonomy -m 3 -t 5 report.txt -o kraken.html 2> krakenkrona.err"
   ]
  },
  {
   "cell_type": "markdown",
   "id": "4e047892-cf16-4518-87d3-453e0447eb1b",
   "metadata": {},
   "source": [
    "## <span style=\"color: #4CACBC;\"> 4. Use Diamond for taxonomic assignation<a class=\"anchor\" id=\"diamond\"> </span>"
   ]
  },
  {
   "cell_type": "markdown",
   "id": "0d5779fe-565d-45e0-9347-76c27c14164d",
   "metadata": {},
   "source": [
    "### <span style=\"color: #4CACBC;\"> 4.1. Download bacteria bank<a class=\"anchor\" id=\"bacteriadbdiamond\"> </span>"
   ]
  },
  {
   "cell_type": "code",
   "execution_count": null,
   "id": "ca4ece95-a5b1-4bc8-9e5f-7ae474880405",
   "metadata": {},
   "outputs": [],
   "source": []
  }
 ],
 "metadata": {
  "kernelspec": {
   "display_name": "Python 3 (ipykernel)",
   "language": "python",
   "name": "python3"
  },
  "language_info": {
   "codemirror_mode": {
    "name": "ipython",
    "version": 3
   },
   "file_extension": ".py",
   "mimetype": "text/x-python",
   "name": "python",
   "nbconvert_exporter": "python",
   "pygments_lexer": "ipython3",
   "version": "3.10.12"
  }
 },
 "nbformat": 4,
 "nbformat_minor": 5
}
